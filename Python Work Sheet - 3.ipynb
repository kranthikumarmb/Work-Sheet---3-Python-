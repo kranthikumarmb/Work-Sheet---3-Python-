{
 "cells": [
  {
   "cell_type": "markdown",
   "id": "18f8d86e",
   "metadata": {},
   "source": [
    "# Q11 to Q15 are programming questions. Answer them in Jupyter Notebook. "
   ]
  },
  {
   "cell_type": "markdown",
   "id": "6bf0bad9",
   "metadata": {},
   "source": [
    "11. Write a python function print pyramid of stars. Level of the pyramid should be taken as an input from the \n",
    "user. E.g. \n",
    "Input = 5"
   ]
  },
  {
   "cell_type": "code",
   "execution_count": 3,
   "id": "8225d5d2",
   "metadata": {},
   "outputs": [
    {
     "name": "stdout",
     "output_type": "stream",
     "text": [
      "Enter the number of levels for the pyramid: 5\n",
      "    * \n",
      "   * * \n",
      "  * * * \n",
      " * * * * \n",
      "* * * * * \n"
     ]
    }
   ],
   "source": [
    "def print_pyramid():\n",
    "    level = int(input(\"Enter the number of levels for the pyramid: \"))\n",
    "    for i in range(1, level+1):\n",
    "        print(\" \"*(level-i) + \"* \"*i)\n",
    "\n",
    "print_pyramid()\n"
   ]
  },
  {
   "cell_type": "markdown",
   "id": "79933309",
   "metadata": {},
   "source": [
    "12. Write a python function print Hourglass pattern"
   ]
  },
  {
   "cell_type": "code",
   "execution_count": 8,
   "id": "9f6ca06d",
   "metadata": {},
   "outputs": [],
   "source": [
    "n=5\n",
    "def print_hourglass(n):\n",
    "    for i in range(n, 0, -1):\n",
    "        print(\" \"*(n-i) + \"* \"*i)\n",
    "    for i in range(2, n+1):\n",
    "        print(\" \"*(n-i) + \"* \"*i)\n"
   ]
  },
  {
   "cell_type": "code",
   "execution_count": 9,
   "id": "642ffe8f",
   "metadata": {},
   "outputs": [
    {
     "name": "stdout",
     "output_type": "stream",
     "text": [
      "* * * * * \n",
      " * * * * \n",
      "  * * * \n",
      "   * * \n",
      "    * \n",
      "   * * \n",
      "  * * * \n",
      " * * * * \n",
      "* * * * * \n"
     ]
    }
   ],
   "source": [
    "print_hourglass(n)"
   ]
  },
  {
   "cell_type": "markdown",
   "id": "25294a69",
   "metadata": {},
   "source": [
    "13. Write a python function to print Pascal’s Triangle. The number of levels in the triangle must be taken as input \n",
    "by the user. E.g. \n",
    "Input = 5 "
   ]
  },
  {
   "cell_type": "code",
   "execution_count": 10,
   "id": "22c3dbfb",
   "metadata": {},
   "outputs": [
    {
     "name": "stdout",
     "output_type": "stream",
     "text": [
      "1\n",
      "1 1\n",
      "1 2 1\n",
      "1 3 3 1\n",
      "1 4 6 4 1\n"
     ]
    }
   ],
   "source": [
    "def print_pascals_triangle(n):\n",
    "    # Initialize the first row with 1\n",
    "    row = [1]\n",
    "    # Loop over the number of rows\n",
    "    for i in range(n):\n",
    "        # Print the current row\n",
    "        print(\" \".join(str(x) for x in row))\n",
    "        # Calculate the next row\n",
    "        row = [1] + [row[j] + row[j+1] for j in range(len(row)-1)] + [1]\n",
    "\n",
    "# Example usage:\n",
    "print_pascals_triangle(5)\n"
   ]
  },
  {
   "cell_type": "markdown",
   "id": "75ac1d16",
   "metadata": {},
   "source": [
    "14. Write a python function to print Diamond Shaped Pattern shown below. Function must take integer input \n",
    "which represents the number of stars in the middle most line. E.g.: \n",
    "Input = 5 "
   ]
  },
  {
   "cell_type": "code",
   "execution_count": 11,
   "id": "00dfdc37",
   "metadata": {},
   "outputs": [
    {
     "name": "stdout",
     "output_type": "stream",
     "text": [
      "    * \n",
      "   * * \n",
      "  * * * \n",
      " * * * * \n",
      "* * * * * \n",
      " * * * * \n",
      "  * * * \n",
      "   * * \n",
      "    * \n",
      "* * * * * \n"
     ]
    }
   ],
   "source": [
    "def print_diamond(n):\n",
    "    # Print the upper half of the diamond\n",
    "    for i in range(n):\n",
    "        print(\" \"*(n-i-1) + \"* \"*(i+1))\n",
    "    # Print the lower half of the diamond (excluding the middle line)\n",
    "    for i in range(n-1, 0, -1):\n",
    "        print(\" \"*(n-i) + \"* \"*i)\n",
    "    # Print the middle line of the diamond\n",
    "    print(\"* \"*n)\n",
    "\n",
    "# Example usage:\n",
    "print_diamond(5)\n"
   ]
  },
  {
   "cell_type": "markdown",
   "id": "9803dc48",
   "metadata": {},
   "source": [
    "15. Write a python function to print Diamond Shaped Character Pattern shown below. Function must take integer \n",
    "input within range 1 to 26, which represents the rank of the alphabet. E.g.: \n",
    "Input = 5 "
   ]
  },
  {
   "cell_type": "code",
   "execution_count": 12,
   "id": "df5334f6",
   "metadata": {},
   "outputs": [
    {
     "name": "stdout",
     "output_type": "stream",
     "text": [
      "    A\n",
      "   B A B\n",
      "  C B A B   C\n",
      " D C B A B   C   D\n",
      "E D C B A B   C   D   E\n",
      " D C B A B   C   D\n",
      "  C B A B   C\n",
      "   B A B\n",
      "    A\n"
     ]
    }
   ],
   "source": [
    "def print_diamond(rank):\n",
    "    # check if input is within range\n",
    "    if rank < 1 or rank > 26:\n",
    "        print(\"Invalid input! Rank must be between 1 and 26.\")\n",
    "        return\n",
    "    \n",
    "    # print upper half of diamond\n",
    "    for i in range(1, rank+1):\n",
    "        spaces = \" \"*(rank-i)\n",
    "        letters = \" \".join(chr(64+j) for j in range(i, 1, -1))\n",
    "        if i == 1:\n",
    "            print(f\"{spaces}A\")\n",
    "        else:\n",
    "            print(f\"{spaces}{letters} A {' '.join(letters[::-1])}\")\n",
    "    \n",
    "    # print lower half of diamond\n",
    "    for i in range(rank-1, 0, -1):\n",
    "        spaces = \" \"*(rank-i)\n",
    "        letters = \" \".join(chr(64+j) for j in range(i, 1, -1))\n",
    "        if i == 1:\n",
    "            print(f\"{spaces}A\")\n",
    "        else:\n",
    "            print(f\"{spaces}{letters} A {' '.join(letters[::-1])}\")\n",
    "\n",
    "# example usage\n",
    "print_diamond(5)\n"
   ]
  },
  {
   "cell_type": "code",
   "execution_count": null,
   "id": "7aadef04",
   "metadata": {},
   "outputs": [],
   "source": []
  }
 ],
 "metadata": {
  "kernelspec": {
   "display_name": "Python 3 (ipykernel)",
   "language": "python",
   "name": "python3"
  },
  "language_info": {
   "codemirror_mode": {
    "name": "ipython",
    "version": 3
   },
   "file_extension": ".py",
   "mimetype": "text/x-python",
   "name": "python",
   "nbconvert_exporter": "python",
   "pygments_lexer": "ipython3",
   "version": "3.9.13"
  }
 },
 "nbformat": 4,
 "nbformat_minor": 5
}
